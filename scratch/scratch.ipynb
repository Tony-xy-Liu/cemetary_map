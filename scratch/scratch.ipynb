{
 "cells": [
  {
   "cell_type": "code",
   "execution_count": 1,
   "metadata": {},
   "outputs": [
    {
     "data": {
      "text/html": [
       "<div>\n",
       "<style scoped>\n",
       "    .dataframe tbody tr th:only-of-type {\n",
       "        vertical-align: middle;\n",
       "    }\n",
       "\n",
       "    .dataframe tbody tr th {\n",
       "        vertical-align: top;\n",
       "    }\n",
       "\n",
       "    .dataframe thead th {\n",
       "        text-align: right;\n",
       "    }\n",
       "</style>\n",
       "<table border=\"1\" class=\"dataframe\">\n",
       "  <thead>\n",
       "    <tr style=\"text-align: right;\">\n",
       "      <th></th>\n",
       "      <th>Plot</th>\n",
       "      <th>Deceased Name</th>\n",
       "      <th>Payer Account</th>\n",
       "      <th>Buried</th>\n",
       "    </tr>\n",
       "  </thead>\n",
       "  <tbody>\n",
       "    <tr>\n",
       "      <th>0</th>\n",
       "      <td>A - 002</td>\n",
       "      <td>Leah Greenspoon</td>\n",
       "      <td>Abe Greenspoon</td>\n",
       "      <td>1995-12-28</td>\n",
       "    </tr>\n",
       "    <tr>\n",
       "      <th>1</th>\n",
       "      <td>A - 003</td>\n",
       "      <td>Abe Greenspoon</td>\n",
       "      <td>Abe Greenspoon</td>\n",
       "      <td>2012-09-20</td>\n",
       "    </tr>\n",
       "    <tr>\n",
       "      <th>2</th>\n",
       "      <td>A - 004</td>\n",
       "      <td>Arnold Wolff</td>\n",
       "      <td>Fay &amp; Arnold Wolf</td>\n",
       "      <td>1996-01-01</td>\n",
       "    </tr>\n",
       "    <tr>\n",
       "      <th>3</th>\n",
       "      <td>A - 005</td>\n",
       "      <td>Fay Wolff</td>\n",
       "      <td>Fay &amp; Arnold Wolf</td>\n",
       "      <td>2003-08-01</td>\n",
       "    </tr>\n",
       "    <tr>\n",
       "      <th>4</th>\n",
       "      <td>A - 006</td>\n",
       "      <td>Marilynn Greene</td>\n",
       "      <td>Marilynn Greene</td>\n",
       "      <td>2016-12-21</td>\n",
       "    </tr>\n",
       "  </tbody>\n",
       "</table>\n",
       "</div>"
      ],
      "text/plain": [
       "      Plot    Deceased Name      Payer Account     Buried \n",
       "0  A - 002  Leah Greenspoon     Abe Greenspoon  1995-12-28\n",
       "1  A - 003   Abe Greenspoon     Abe Greenspoon  2012-09-20\n",
       "2  A - 004     Arnold Wolff  Fay & Arnold Wolf  1996-01-01\n",
       "3  A - 005        Fay Wolff  Fay & Arnold Wolf  2003-08-01\n",
       "4  A - 006  Marilynn Greene    Marilynn Greene  2016-12-21"
      ]
     },
     "execution_count": 1,
     "metadata": {},
     "output_type": "execute_result"
    }
   ],
   "source": [
    "path = '/home/tony/workspace/web/cemetary_map/src/website/public/assets/plots.tsv'\n",
    "\n",
    "import pandas as pd\n",
    "\n",
    "df = pd.read_csv(path, sep='\\t')\n",
    "df.head()"
   ]
  },
  {
   "cell_type": "code",
   "execution_count": null,
   "metadata": {},
   "outputs": [],
   "source": [
    "df.to_csv('/home/tony/workspace/web/cemetary_map/src/website/public/assets/plots.csv', index=False)"
   ]
  }
 ],
 "metadata": {
  "kernelspec": {
   "display_name": "Python 3.10.4 ('p310')",
   "language": "python",
   "name": "python3"
  },
  "language_info": {
   "codemirror_mode": {
    "name": "ipython",
    "version": 3
   },
   "file_extension": ".py",
   "mimetype": "text/x-python",
   "name": "python",
   "nbconvert_exporter": "python",
   "pygments_lexer": "ipython3",
   "version": "3.10.4"
  },
  "orig_nbformat": 4,
  "vscode": {
   "interpreter": {
    "hash": "2435c7440461fadc5a1d9e864caea4455b848895712cb9bd14333ad40094f801"
   }
  }
 },
 "nbformat": 4,
 "nbformat_minor": 2
}
